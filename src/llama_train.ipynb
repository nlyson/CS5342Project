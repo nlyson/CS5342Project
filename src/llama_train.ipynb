{
 "cells": [
  {
   "cell_type": "markdown",
   "metadata": {},
   "source": [
    "<h1>Dependencies</h1>"
   ]
  },
  {
   "cell_type": "code",
   "execution_count": 1,
   "metadata": {},
   "outputs": [],
   "source": [
    "from langchain_community.document_loaders import DirectoryLoader, PyPDFLoader\n",
    "from langchain_text_splitters import RecursiveCharacterTextSplitter\n",
    "from langchain_community.llms import Ollama\n",
    "from langchain_community.vectorstores import Chroma\n",
    "from langchain_ollama import OllamaEmbeddings"
   ]
  },
  {
   "cell_type": "markdown",
   "metadata": {},
   "source": [
    "<h1>Embed Class Slides and Textbooks (only do this if embedding new documents)</h1>"
   ]
  },
  {
   "cell_type": "code",
   "execution_count": null,
   "metadata": {},
   "outputs": [
    {
     "name": "stderr",
     "output_type": "stream",
     "text": [
      "Ignoring wrong pointing object 7 0 (offset 0)\n",
      "Ignoring wrong pointing object 14 0 (offset 0)\n",
      "Ignoring wrong pointing object 16 0 (offset 0)\n",
      "Ignoring wrong pointing object 18 0 (offset 0)\n",
      "Ignoring wrong pointing object 20 0 (offset 0)\n",
      "Ignoring wrong pointing object 22 0 (offset 0)\n",
      "Ignoring wrong pointing object 32 0 (offset 0)\n",
      "Ignoring wrong pointing object 34 0 (offset 0)\n",
      "Ignoring wrong pointing object 41 0 (offset 0)\n",
      "Ignoring wrong pointing object 7 0 (offset 0)\n",
      "Ignoring wrong pointing object 9 0 (offset 0)\n",
      "Ignoring wrong pointing object 11 0 (offset 0)\n",
      "Ignoring wrong pointing object 13 0 (offset 0)\n",
      "Ignoring wrong pointing object 21 0 (offset 0)\n",
      "Ignoring wrong pointing object 27 0 (offset 0)\n",
      "Ignoring wrong pointing object 29 0 (offset 0)\n",
      "Ignoring wrong pointing object 56 0 (offset 0)\n",
      "Ignoring wrong pointing object 58 0 (offset 0)\n",
      "Ignoring wrong pointing object 7 0 (offset 0)\n",
      "Ignoring wrong pointing object 9 0 (offset 0)\n",
      "Ignoring wrong pointing object 11 0 (offset 0)\n",
      "Ignoring wrong pointing object 18 0 (offset 0)\n",
      "Ignoring wrong pointing object 20 0 (offset 0)\n",
      "Ignoring wrong pointing object 42 0 (offset 0)\n",
      "Ignoring wrong pointing object 52 0 (offset 0)\n",
      "Ignoring wrong pointing object 54 0 (offset 0)\n",
      "Ignoring wrong pointing object 56 0 (offset 0)\n",
      "Ignoring wrong pointing object 58 0 (offset 0)\n",
      "Ignoring wrong pointing object 60 0 (offset 0)\n",
      "Ignoring wrong pointing object 62 0 (offset 0)\n",
      "Ignoring wrong pointing object 64 0 (offset 0)\n",
      "Ignoring wrong pointing object 66 0 (offset 0)\n",
      "Ignoring wrong pointing object 73 0 (offset 0)\n",
      "Ignoring wrong pointing object 79 0 (offset 0)\n",
      "Ignoring wrong pointing object 89 0 (offset 0)\n",
      "Ignoring wrong pointing object 7 0 (offset 0)\n",
      "Ignoring wrong pointing object 9 0 (offset 0)\n",
      "Ignoring wrong pointing object 11 0 (offset 0)\n",
      "Ignoring wrong pointing object 13 0 (offset 0)\n",
      "Ignoring wrong pointing object 15 0 (offset 0)\n",
      "Ignoring wrong pointing object 19 0 (offset 0)\n",
      "Ignoring wrong pointing object 21 0 (offset 0)\n",
      "Ignoring wrong pointing object 36 0 (offset 0)\n",
      "Ignoring wrong pointing object 38 0 (offset 0)\n",
      "Ignoring wrong pointing object 40 0 (offset 0)\n",
      "Ignoring wrong pointing object 42 0 (offset 0)\n",
      "Ignoring wrong pointing object 48 0 (offset 0)\n",
      "Ignoring wrong pointing object 54 0 (offset 0)\n",
      "Ignoring wrong pointing object 7 0 (offset 0)\n",
      "Ignoring wrong pointing object 9 0 (offset 0)\n",
      "Ignoring wrong pointing object 11 0 (offset 0)\n",
      "Ignoring wrong pointing object 18 0 (offset 0)\n",
      "Ignoring wrong pointing object 20 0 (offset 0)\n",
      "Ignoring wrong pointing object 22 0 (offset 0)\n",
      "Ignoring wrong pointing object 24 0 (offset 0)\n",
      "Ignoring wrong pointing object 26 0 (offset 0)\n",
      "Ignoring wrong pointing object 28 0 (offset 0)\n",
      "Ignoring wrong pointing object 30 0 (offset 0)\n",
      "Ignoring wrong pointing object 43 0 (offset 0)\n",
      "Ignoring wrong pointing object 7 0 (offset 0)\n",
      "Ignoring wrong pointing object 14 0 (offset 0)\n",
      "Ignoring wrong pointing object 16 0 (offset 0)\n",
      "Ignoring wrong pointing object 18 0 (offset 0)\n",
      "Ignoring wrong pointing object 20 0 (offset 0)\n",
      "Ignoring wrong pointing object 22 0 (offset 0)\n",
      "Ignoring wrong pointing object 24 0 (offset 0)\n",
      "Ignoring wrong pointing object 26 0 (offset 0)\n",
      "Ignoring wrong pointing object 28 0 (offset 0)\n",
      "Ignoring wrong pointing object 30 0 (offset 0)\n",
      "Ignoring wrong pointing object 32 0 (offset 0)\n",
      "Ignoring wrong pointing object 34 0 (offset 0)\n",
      "Ignoring wrong pointing object 36 0 (offset 0)\n",
      "Ignoring wrong pointing object 38 0 (offset 0)\n",
      "Ignoring wrong pointing object 40 0 (offset 0)\n",
      "Ignoring wrong pointing object 42 0 (offset 0)\n",
      "Ignoring wrong pointing object 44 0 (offset 0)\n",
      "Ignoring wrong pointing object 46 0 (offset 0)\n",
      "Ignoring wrong pointing object 57 0 (offset 0)\n",
      "Ignoring wrong pointing object 78 0 (offset 0)\n",
      "Ignoring wrong pointing object 80 0 (offset 0)\n",
      "Ignoring wrong pointing object 82 0 (offset 0)\n",
      "Ignoring wrong pointing object 84 0 (offset 0)\n",
      "Ignoring wrong pointing object 86 0 (offset 0)\n",
      "Ignoring wrong pointing object 88 0 (offset 0)\n",
      "Ignoring wrong pointing object 90 0 (offset 0)\n",
      "Ignoring wrong pointing object 92 0 (offset 0)\n",
      "Ignoring wrong pointing object 94 0 (offset 0)\n",
      "Ignoring wrong pointing object 100 0 (offset 0)\n",
      "Ignoring wrong pointing object 107 0 (offset 0)\n",
      "Ignoring wrong pointing object 109 0 (offset 0)\n",
      "Ignoring wrong pointing object 111 0 (offset 0)\n",
      "Ignoring wrong pointing object 113 0 (offset 0)\n",
      "Ignoring wrong pointing object 115 0 (offset 0)\n",
      "Ignoring wrong pointing object 7 0 (offset 0)\n",
      "Ignoring wrong pointing object 9 0 (offset 0)\n",
      "Ignoring wrong pointing object 11 0 (offset 0)\n",
      "Ignoring wrong pointing object 13 0 (offset 0)\n",
      "Ignoring wrong pointing object 15 0 (offset 0)\n",
      "Ignoring wrong pointing object 17 0 (offset 0)\n",
      "Ignoring wrong pointing object 19 0 (offset 0)\n",
      "Ignoring wrong pointing object 21 0 (offset 0)\n",
      "Ignoring wrong pointing object 28 0 (offset 0)\n",
      "Ignoring wrong pointing object 30 0 (offset 0)\n",
      "Ignoring wrong pointing object 32 0 (offset 0)\n",
      "Ignoring wrong pointing object 39 0 (offset 0)\n",
      "Ignoring wrong pointing object 42 0 (offset 0)\n",
      "Ignoring wrong pointing object 49 0 (offset 0)\n",
      "Ignoring wrong pointing object 55 0 (offset 0)\n",
      "Ignoring wrong pointing object 57 0 (offset 0)\n",
      "Ignoring wrong pointing object 67 0 (offset 0)\n",
      "Ignoring wrong pointing object 7 0 (offset 0)\n",
      "Ignoring wrong pointing object 9 0 (offset 0)\n",
      "Ignoring wrong pointing object 11 0 (offset 0)\n",
      "Ignoring wrong pointing object 21 0 (offset 0)\n",
      "Ignoring wrong pointing object 23 0 (offset 0)\n",
      "Ignoring wrong pointing object 25 0 (offset 0)\n",
      "Ignoring wrong pointing object 65 0 (offset 0)\n",
      "Ignoring wrong pointing object 7 0 (offset 0)\n",
      "Ignoring wrong pointing object 9 0 (offset 0)\n",
      "Ignoring wrong pointing object 17 0 (offset 0)\n",
      "Ignoring wrong pointing object 19 0 (offset 0)\n",
      "Ignoring wrong pointing object 21 0 (offset 0)\n",
      "Ignoring wrong pointing object 23 0 (offset 0)\n",
      "Ignoring wrong pointing object 29 0 (offset 0)\n",
      "Ignoring wrong pointing object 38 0 (offset 0)\n",
      "Ignoring wrong pointing object 40 0 (offset 0)\n",
      "Ignoring wrong pointing object 63 0 (offset 0)\n",
      "Ignoring wrong pointing object 65 0 (offset 0)\n"
     ]
    }
   ],
   "source": [
    "# Load documents\n",
    "loader = DirectoryLoader('../docs', glob=\"**/*.pdf\", loader_cls=PyPDFLoader)\n",
    "documents = loader.load()\n",
    "\n",
    "# Split documents into chunks\n",
    "text_splitter = RecursiveCharacterTextSplitter(chunk_size=500, chunk_overlap=0)\n",
    "splits = text_splitter.split_documents(documents)\n",
    "\n",
    "# Create embeddings and vector store\n",
    "embeddings = OllamaEmbeddings(model=\"llama3.2\", base_url=\"http://localhost:11434\")\n",
    "vectorstore = Chroma.from_documents(persist_directory='../chroma', documents=splits, embedding=embeddings)\n"
   ]
  },
  {
   "cell_type": "markdown",
   "metadata": {},
   "source": [
    "<h1>Initialize Llama LLM locally</h1>"
   ]
  },
  {
   "cell_type": "code",
   "execution_count": 2,
   "metadata": {},
   "outputs": [
    {
     "name": "stderr",
     "output_type": "stream",
     "text": [
      "/tmp/ipykernel_11274/2116260297.py:2: LangChainDeprecationWarning: The class `Chroma` was deprecated in LangChain 0.2.9 and will be removed in 1.0. An updated version of the class exists in the :class:`~langchain-chroma package and should be used instead. To use it run `pip install -U :class:`~langchain-chroma` and import as `from :class:`~langchain_chroma import Chroma``.\n",
      "  vectorstore = Chroma(persist_directory='../chroma', embedding_function=embeddings)\n",
      "/tmp/ipykernel_11274/2116260297.py:4: LangChainDeprecationWarning: The class `Ollama` was deprecated in LangChain 0.3.1 and will be removed in 1.0.0. An updated version of the class exists in the :class:`~langchain-ollama package and should be used instead. To use it run `pip install -U :class:`~langchain-ollama` and import as `from :class:`~langchain_ollama import OllamaLLM``.\n",
      "  llm = Ollama(model=\"llama3.2\", base_url=\"http://localhost:11434\")\n"
     ]
    }
   ],
   "source": [
    "embeddings = OllamaEmbeddings(model=\"llama3.2\")\n",
    "vectorstore = Chroma(persist_directory='../chroma', embedding_function=embeddings)\n",
    "# Initialize LLama 3.2\n",
    "llm = Ollama(model=\"llama3.2\", base_url=\"http://localhost:11434\")\n",
    "\n"
   ]
  },
  {
   "cell_type": "markdown",
   "metadata": {},
   "source": [
    "<h1>Generate prompt with GUI using gradio</h1>"
   ]
  },
  {
   "cell_type": "code",
   "execution_count": null,
   "metadata": {},
   "outputs": [
    {
     "name": "stderr",
     "output_type": "stream",
     "text": [
      "/home/nathan/GIT_branches/CS5342Project/venv/lib/python3.10/site-packages/tqdm/auto.py:21: TqdmWarning: IProgress not found. Please update jupyter and ipywidgets. See https://ipywidgets.readthedocs.io/en/stable/user_install.html\n",
      "  from .autonotebook import tqdm as notebook_tqdm\n"
     ]
    },
    {
     "name": "stdout",
     "output_type": "stream",
     "text": [
      "Running on local URL:  http://127.0.0.1:7860\n",
      "\n",
      "To create a public link, set `share=True` in `launch()`.\n"
     ]
    },
    {
     "data": {
      "text/html": [
       "<div><iframe src=\"http://127.0.0.1:7860/\" width=\"100%\" height=\"500\" allow=\"autoplay; camera; microphone; clipboard-read; clipboard-write;\" frameborder=\"0\" allowfullscreen></iframe></div>"
      ],
      "text/plain": [
       "<IPython.core.display.HTML object>"
      ]
     },
     "metadata": {},
     "output_type": "display_data"
    },
    {
     "data": {
      "text/plain": []
     },
     "execution_count": 3,
     "metadata": {},
     "output_type": "execute_result"
    },
    {
     "name": "stdout",
     "output_type": "stream",
     "text": [
      "-----------------------History: []\n"
     ]
    },
    {
     "name": "stderr",
     "output_type": "stream",
     "text": [
      "/tmp/ipykernel_11274/1760030868.py:6: LangChainDeprecationWarning: The method `BaseLLM.__call__` was deprecated in langchain-core 0.1.7 and will be removed in 1.0. Use :meth:`~invoke` instead.\n",
      "  relevant_response = llm(f\"Question: Is {message} relevant to network security? Simple yes or no. Don't overthink it. Obvious answers only.\").lower()\n"
     ]
    },
    {
     "name": "stdout",
     "output_type": "stream",
     "text": [
      "no.\n",
      "-----------------------History: [['What is a dog?', 'A dog is a domesticated mammal that belongs to the family Canidae. They are often kept as pets and are known for their loyalty, intelligence, and affectionate nature. Dogs come in a wide range of breeds, sizes, and coat types, but they all share common characteristics such as a tail, four legs, and a tendency to bark.\\n\\nSource: Not relevant to network security.']]\n",
      "no.\n",
      "-----------------------History: [['What is a dog?', 'A dog is a domesticated mammal that belongs to the family Canidae. They are often kept as pets and are known for their loyalty, intelligence, and affectionate nature. Dogs come in a wide range of breeds, sizes, and coat types, but they all share common characteristics such as a tail, four legs, and a tendency to bark.\\n\\nSource: Not relevant to network security.'], ['What is an elephant.', 'An elephant is a large, intelligent mammal that belongs to the family Elephantidae. They are native to Africa and Asia, and are known for their massive size, distinctive trunk, tusks, and ear shape. Elephants are highly social animals that live in matriarchal herds, led by the oldest female. They possess excellent memory, empathy, and self-awareness, and are considered one of the most intelligent land animals on Earth.\\n\\nSource: Not relevant to network security.']]\n",
      "yes.\n",
      "-----------------------History: [['What is a dog?', 'A dog is a domesticated mammal that belongs to the family Canidae. They are often kept as pets and are known for their loyalty, intelligence, and affectionate nature. Dogs come in a wide range of breeds, sizes, and coat types, but they all share common characteristics such as a tail, four legs, and a tendency to bark.\\n\\nSource: Not relevant to network security.'], ['What is an elephant.', 'An elephant is a large, intelligent mammal that belongs to the family Elephantidae. They are native to Africa and Asia, and are known for their massive size, distinctive trunk, tusks, and ear shape. Elephants are highly social animals that live in matriarchal herds, led by the oldest female. They possess excellent memory, empathy, and self-awareness, and are considered one of the most intelligent land animals on Earth.\\n\\nSource: Not relevant to network security.'], ['What is AES encryption/', \"Here's an answer to your question about AES encryption:\\n\\nAES (Advanced Encryption Standard) is a symmetric-key block cipher that encrypts data in blocks of 128 bits. It uses a variable-size key, which can range from 128 to 256 bits. The encryption process involves three main steps: key expansion, substitution-permutation network, and round function.\\n\\n1. Key Expansion: The key is expanded into a set of round keys, which are used in the encryption process. The number of rounds depends on the key size.\\n2. Substitution-Permutation Network: Each block of plaintext is encrypted using a series of substitution boxes (S-boxes) and permutation tables. The S-boxes replace each byte with another byte based on its value, while the permutation tables rearrange the bytes to create a new order.\\n3. Round Function: The resulting ciphertext from the substitution-permutation network is then processed by a round function, which involves applying the following operations:\\n        * Shift: The bytes are shifted left or right by a certain number of bits.\\n        * Mix columns: The bytes are mixed together using bitwise XOR and rotation operations.\\n\\nThe final output of each round is fed into the next round, and this process continues until all rounds have been completed. The encryption process can be decrypted in a similar manner to encrypt it.\\n\\nIn CBC (Cipher Block Chaining) mode, each block of ciphertext is encrypted independently based on the previous block's ciphertext. This means that you need to read blocks n before decrypting block n.\\n\\nTo decrypt only block n of a file that was encrypted with CBC mode, you would:\\n\\n1. Read all preceding blocks (blocks 0-n-1).\\n2. Use the first block's ciphertext as the initial value for the decryption process.\\n3. Decrypt each subsequent block using the previous block's ciphertext and the current block's plaintext.\\n\\nYou can use AES-CBC to decrypt the file by reading all preceding blocks, applying the decryption process to each block based on the previous block's ciphertext, and then outputting the decrypted plaintext.\\n\\nThe CMAC (Cyclic-Mean-Channel Attack) scheme is used to prevent attacks like CBC Forgery Attack. CMAC adds a message authentication code (MAC) to the end of the ciphertext to ensure its integrity. By adding the MAC, you can verify that the data has not been tampered with during transmission or storage.\\n\\nThe attack described in section §4.3.1.1 CBC Forgery Attack occurs when an attacker intercepts the ciphertext and tries to create a new plaintext by manipulating the first block of the message. However, by adding the MAC to the end of the ciphertext, CMAC prevents this attack from succeeding. The MAC ensures that any changes made to the ciphertext will result in a mismatch with the expected value, making it detectable.\\n\\nNow, for each scenario, let's compare the number of AES operations required in XTS (XEX) versus XEX:\\n\\n1. **Confusion:** In order to completely obscure statistical properties of an original message using confusion, you need to introduce randomization between different input values, which requires multiple iterations.\\n2. **Diffusion:** To achieve diffusion, you need to ensure that a small change in the plaintext affects the entire ciphertext, which typically involves more operations and mixing of data bits.\\n\\nFor XTS (XEX), each AES block consists of two 128-bit halves. Each half is encrypted using AES with different keys (K1 and K2). In XEX, one of the halves (typically the second half) is used as a key for another round, which increases the number of operations required.\\n\\nFor XTS, you need to encrypt two blocks per round of encryption, whereas in XEX, you only need to encrypt one block. However, XEX requires additional steps after each round, such as mixing and shifting, which adds more AES operations.\\n\\nIn general, XEX has fewer total AES operations than XTS since it eliminates the need for an extra round's worth of calculations but increases the number of operations required in other rounds.\\n\\nNow let’s look at the attacks on RSA:\\n\\nA simple attack on textbook RSA is a timing-based attack that can be carried out by eavesdropping on communication between two parties, Alice and Bob. In this scenario:\\n\\n*   Session key $K$ is 64 bits.\\n*   Eavesdropper sees: $C = Ke(mod N)$.\\n*   Suppose K $= K1 \\\\times K2$, where $K1, K2<234$.\\n*   Then: $\\\\frac{C}{K1e} = K2e(modN).$\\n*   Build a table of C/K1e for values of e from 1 to 233.\\n\\nThis attack exploits the difference in time taken by the decryption process when using different values of e (from 1 to 232).\\n\\nAnother attack on RSA is based on the fact that $e$ can be recovered if you know the value of $\\\\phi(N)$, where $\\\\phi(N)$ denotes Euler's totient function.\\n\\nSource: docs/Lecture_16_slides.pdf Page Number: 3\\nSource: docs/book-perlner-network-security-erb.pdf Page Number: 102\\nSource: docs/Lecture_6_slides.pdf Page Number: 2\\nSource: docs/Lecture_19_slides.pdf Page Number: 1\\nSource: docs/Lecture_18_slides.pdf Page Number: 8\\nSource: docs/Lecture_17_slides.pdf Page Number: 2\\nSource: docs/Lecture_17_slides.pdf Page Number: 0\\nSource: docs/ComputerNetworkingTopDownApproach.pdf Page Number: 736\\nSource: docs/Lecture_14_slides.pdf Page Number: 0\\nSource: docs/Lecture_13_slides.pdf Page Number: 8\"]]\n",
      "no.\n"
     ]
    }
   ],
   "source": [
    "import gradio as gr\n",
    "\n",
    "def answer(message: str, history: list[str]):\n",
    "    print(f'-----------------------History: {history}')\n",
    "    #Use llm to determine if question is relevant to network security\n",
    "    relevant_response = llm(f\"Question: Is {message} relevant to network security? Simple yes or no. Don't overthink it. Obvious answers only.\").lower()\n",
    "    print(relevant_response)\n",
    "    relevant = 'yes' in relevant_response\n",
    "\n",
    "    #Find similar docs if relevant\n",
    "    similar_docs = vectorstore.similarity_search(message, k=10) if relevant else []\n",
    "\n",
    "    #Document the source\n",
    "    source = \"\\n\".join([f\"Source: {document.metadata['source'][document.metadata['source'].index('/')+1:]} Page Number: {document.metadata['page']}\" for document in similar_docs]) if relevant else \"Source: Not relevant to network security.\"\n",
    "\n",
    "    #Construct prompt using history from past requests - this will allows to take interactive quizzes\n",
    "    prompt = \"\\n\".join([f\"User: {item[0]}\\nBot: {item[1][:item[1].index('Source')]}\" for item in history]) + f\"\\nUser: {message}\\nBot:\"\n",
    "    \n",
    "    #Construct context if relevant\n",
    "    context = \"\\n\".join([doc.page_content for doc in similar_docs]) if relevant else []\n",
    "\n",
    "    #Send constructed prompt to llm and add message, result to history\n",
    "    response = llm(f\"Context: {context}\\nQuestion: {prompt}\\nAnswer:\") if relevant else llm(f\"Question: {prompt}\\nAnswer:\")\n",
    "    #history.append([message, response])\n",
    "\n",
    "    #Display the reponse as well as the source\n",
    "    return (response + \"\\n\\n\" + source)\n",
    "\n",
    "\n",
    "chatbot = gr.ChatInterface(\n",
    "    fn=answer,\n",
    "    title=\"Group 5 Quizbot\",\n",
    "    description=\"Enter the following prompt to be quizzed: Generate a multiple choice, true/false, or short answer network security question and provide feedback to my answer.\"\n",
    ")\n",
    "\n",
    "chatbot.launch(server_port=7860)\n"
   ]
  }
 ],
 "metadata": {
  "kernelspec": {
   "display_name": "venv",
   "language": "python",
   "name": "python3"
  },
  "language_info": {
   "codemirror_mode": {
    "name": "ipython",
    "version": 3
   },
   "file_extension": ".py",
   "mimetype": "text/x-python",
   "name": "python",
   "nbconvert_exporter": "python",
   "pygments_lexer": "ipython3",
   "version": "3.10.12"
  }
 },
 "nbformat": 4,
 "nbformat_minor": 2
}
