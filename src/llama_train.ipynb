{
 "cells": [
  {
   "cell_type": "markdown",
   "metadata": {},
   "source": [
    "<h1>Dependencies</h1>"
   ]
  },
  {
   "cell_type": "code",
   "execution_count": 1,
   "metadata": {},
   "outputs": [],
   "source": [
    "from langchain_community.document_loaders import DirectoryLoader, PyPDFLoader\n",
    "from langchain_text_splitters import RecursiveCharacterTextSplitter\n",
    "from langchain_community.llms import Ollama\n",
    "from langchain_community.vectorstores import Chroma\n",
    "from langchain_ollama import OllamaEmbeddings"
   ]
  },
  {
   "cell_type": "markdown",
   "metadata": {},
   "source": [
    "<h1>Embed Class Slides and Textbooks (only do this if embedding new documents)</h1>"
   ]
  },
  {
   "cell_type": "code",
   "execution_count": null,
   "metadata": {},
   "outputs": [],
   "source": [
    "# Load documents\n",
    "loader = DirectoryLoader('../docs', glob=\"**/*.pdf\", loader_cls=PyPDFLoader)\n",
    "documents = loader.load()\n",
    "\n",
    "# Split documents into chunks\n",
    "text_splitter = RecursiveCharacterTextSplitter(chunk_size=500, chunk_overlap=0)\n",
    "splits = text_splitter.split_documents(documents)\n",
    "\n",
    "# Create embeddings and vector store\n",
    "embeddings = OllamaEmbeddings(model=\"llama3.2\", base_url=\"http://localhost:11434\")\n",
    "vectorstore = Chroma.from_documents(persist_directory='../chroma', documents=splits, embedding=embeddings)\n"
   ]
  },
  {
   "cell_type": "markdown",
   "metadata": {},
   "source": [
    "<h1>Initialize Llama LLM locally</h1>"
   ]
  },
  {
   "cell_type": "code",
   "execution_count": 2,
   "metadata": {},
   "outputs": [
    {
     "name": "stderr",
     "output_type": "stream",
     "text": [
      "/tmp/ipykernel_96990/2116260297.py:2: LangChainDeprecationWarning: The class `Chroma` was deprecated in LangChain 0.2.9 and will be removed in 1.0. An updated version of the class exists in the :class:`~langchain-chroma package and should be used instead. To use it run `pip install -U :class:`~langchain-chroma` and import as `from :class:`~langchain_chroma import Chroma``.\n",
      "  vectorstore = Chroma(persist_directory='../chroma', embedding_function=embeddings)\n",
      "/tmp/ipykernel_96990/2116260297.py:4: LangChainDeprecationWarning: The class `Ollama` was deprecated in LangChain 0.3.1 and will be removed in 1.0.0. An updated version of the class exists in the :class:`~langchain-ollama package and should be used instead. To use it run `pip install -U :class:`~langchain-ollama` and import as `from :class:`~langchain_ollama import OllamaLLM``.\n",
      "  llm = Ollama(model=\"llama3.2\", base_url=\"http://localhost:11434\")\n"
     ]
    }
   ],
   "source": [
    "embeddings = OllamaEmbeddings(model=\"llama3.2\")\n",
    "vectorstore = Chroma(persist_directory='../chroma', embedding_function=embeddings)\n",
    "# Initialize LLama 3.2\n",
    "llm = Ollama(model=\"llama3.2\", base_url=\"http://localhost:11434\")\n",
    "\n"
   ]
  },
  {
   "cell_type": "markdown",
   "metadata": {},
   "source": [
    "<h1>Generate prompt with GUI using gradio</h1>"
   ]
  },
  {
   "cell_type": "code",
   "execution_count": null,
   "metadata": {},
   "outputs": [
    {
     "name": "stderr",
     "output_type": "stream",
     "text": [
      "/home/nathan/GIT_branches/CS5342Project/venv/lib/python3.10/site-packages/tqdm/auto.py:21: TqdmWarning: IProgress not found. Please update jupyter and ipywidgets. See https://ipywidgets.readthedocs.io/en/stable/user_install.html\n",
      "  from .autonotebook import tqdm as notebook_tqdm\n"
     ]
    },
    {
     "name": "stdout",
     "output_type": "stream",
     "text": [
      "Running on local URL:  http://127.0.0.1:7860\n",
      "\n",
      "To create a public link, set `share=True` in `launch()`.\n"
     ]
    },
    {
     "data": {
      "text/html": [
       "<div><iframe src=\"http://127.0.0.1:7860/\" width=\"100%\" height=\"500\" allow=\"autoplay; camera; microphone; clipboard-read; clipboard-write;\" frameborder=\"0\" allowfullscreen></iframe></div>"
      ],
      "text/plain": [
       "<IPython.core.display.HTML object>"
      ]
     },
     "metadata": {},
     "output_type": "display_data"
    },
    {
     "data": {
      "text/plain": []
     },
     "execution_count": 3,
     "metadata": {},
     "output_type": "execute_result"
    },
    {
     "name": "stderr",
     "output_type": "stream",
     "text": [
      "/tmp/ipykernel_96990/2050464858.py:5: LangChainDeprecationWarning: The method `BaseLLM.__call__` was deprecated in langchain-core 0.1.7 and will be removed in 1.0. Use :meth:`~invoke` instead.\n",
      "  relevant = 'yes' in llm(f\"Question: Is {message} relevant to network security?\").lower()\n"
     ]
    }
   ],
   "source": [
    "import gradio as gr\n",
    "\n",
    "def answer(message: str, history: list[str]):\n",
    "    #Use llm to determine if question is relevant to network security\n",
    "    relevant = 'yes' in llm(f\"Question: Is {message} relevant to network security?\").lower()\n",
    "    \n",
    "    #Find similar docs if relevant\n",
    "    similar_docs = vectorstore.similarity_search(message, k=10) if relevant else []\n",
    "\n",
    "    #Document the source\n",
    "    source = \"\\n\".join([f\"Source: {document.metadata['source']} Page Number: {document.metadata['page']}\" for document in similar_docs]) if relevant else \"Source: Not relevant to network security.\"\n",
    "\n",
    "    #Construct prompt using history from past requests - this will allows to take interactive quizzes\n",
    "    prompt = \"\\n\".join([f\"User: {item[0]}\\nBot: {item[1]}\" for item in history]) + f\"\\nUser: {message}\\nBot:\"\n",
    "    \n",
    "    #Construct context if relevant\n",
    "    context = \"\\n\".join([doc.page_content for doc in similar_docs]) if relevant else []\n",
    "\n",
    "    #Send constructed prompt to llm and add message, result to history\n",
    "    response = llm(f\"Context: {context}\\nQuestion: {prompt}\\nAnswer:\")\n",
    "    history.append([message, response])\n",
    "\n",
    "    #Display the reponse as well as the source\n",
    "    return (response + \"\\n\\n\" + source)\n",
    "\n",
    "\n",
    "chatbot = gr.ChatInterface(\n",
    "    fn=answer,\n",
    "    title=\"Group 5 Quizbot\",\n",
    "    description=\"Enter the following prompt to be quizzed: Generate a multiple choice, true/false, or short answer network security question and provide feedback to my answer.\"\n",
    ")\n",
    "\n",
    "chatbot.launch(server_port=7860)\n"
   ]
  }
 ],
 "metadata": {
  "kernelspec": {
   "display_name": "venv",
   "language": "python",
   "name": "python3"
  },
  "language_info": {
   "codemirror_mode": {
    "name": "ipython",
    "version": 3
   },
   "file_extension": ".py",
   "mimetype": "text/x-python",
   "name": "python",
   "nbconvert_exporter": "python",
   "pygments_lexer": "ipython3",
   "version": "3.10.12"
  }
 },
 "nbformat": 4,
 "nbformat_minor": 2
}
